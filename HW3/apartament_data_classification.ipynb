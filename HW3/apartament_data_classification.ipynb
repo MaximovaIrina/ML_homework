{
 "cells": [
  {
   "cell_type": "code",
   "execution_count": 1,
   "id": "28358cc4",
   "metadata": {},
   "outputs": [],
   "source": [
    "import numpy as np          \n",
    "import matplotlib.pyplot as plt\n",
    "%matplotlib inline \n",
    "import pandas as pd    \n",
    "import sklearn   \n",
    "\n",
    "from sklearn.model_selection import train_test_split\n",
    "from sklearn.metrics import balanced_accuracy_score\n",
    "from sklearn.model_selection import GridSearchCV\n",
    "from tqdm import tqdm\n",
    "\n",
    "import warnings\n",
    "warnings.filterwarnings('ignore')"
   ]
  },
  {
   "cell_type": "markdown",
   "id": "b5c8dc3b",
   "metadata": {},
   "source": [
    "# ТЗ: \n",
    "**Пересмотреть решение ДЗ №2. Выполнить то, что раньше было \"по желанию\". Сделать общие выводы**  \n",
    "В ДЗ №2 требовалось решить классификационную задачу. Отметитим что уже было выполнено:  \n",
    " \n",
    "- [x] Описать задачу словами\n",
    "- [x] Прочитать данные\n",
    "- [x] Визуализировать данные и вычислить основные характеристики (среднее, разброс, корреляционную матрицу и т.д.). Интерпретировать.\n",
    "- [x] Обработать пропущенные значения (или убедиться, что их нет)\n",
    "- [x] Обработать категориальные признаки\n",
    "- [x] Провести нормализацию (или объяснить, почему в вашем случае она не нужна)\n",
    "- [x] Разбить данные на обучающую и тестовую выборки\n",
    "- [x] Запустить классификатор ближайших соседей (попробовать разное их количество)\n",
    "- [x] Вычислить ошибки на обучающей и тестовой выборках. Сделать выводы \n",
    "- [ ] По желанию: запустить другие классификаторы. Сравнить результаты\n",
    "- [x] По желанию: как-то побороться с несбалансированностью классов (если она есть)\n",
    "- [x] По желанию: исключить коррелированные переменные (объяснить зачем)\n",
    "- [x] Сделать общие выводы\"\n",
    "\n",
    "Следовательно на данный момент осталось исследовать другие классификаторы.  \n",
    "В рамках данный работы будут рассмотрены следующие классификаторы: \n",
    "\n",
    "* **Random Forest**. С помощью  RF будет проведен отбор важных признаков. В конце мы проверим, как повлияло сокращение признаков. \n",
    "* **SVC**\n",
    "* **Decision tree**\n",
    "* **KNN**\n",
    "* **MLP**\n",
    "* **GBT**"
   ]
  },
  {
   "cell_type": "markdown",
   "id": "c4dc75a8",
   "metadata": {},
   "source": [
    "# 1. Постановка задачи\n",
    "**Задача**.  \n",
    "Определить \"престижность\" квратиры по ее характеристикам.  \n",
    "Предполагается что существует три уровня престижности: ниже среднего,cредняя и выше среднего.  \n",
    "То есть перед нами задача классификации на 3 класса.  \n",
    "\n",
    "**Данные**: В качетве обучающей выборки взят [набор данных о проданных квартрах](https://www.kaggle.com/gunhee/koreahousedata).</br>\n",
    "Поскольку в самом датасете нет меток \"престижности\" в дальнейшем они будут искусственно сгенерированы на основе цен квартир на момент продажи. Соблюдены 2 уловия: разнородные признаки и наличие несбалансироыанных классов. "
   ]
  },
  {
   "cell_type": "markdown",
   "id": "1b945c7f",
   "metadata": {},
   "source": [
    "# 2. Чтение и обработка данных"
   ]
  },
  {
   "cell_type": "code",
   "execution_count": 2,
   "id": "6ff4e4a6",
   "metadata": {},
   "outputs": [
    {
     "name": "stdout",
     "output_type": "stream",
     "text": [
      "Число сэмлов = 5891\n",
      "Число признаков = 30\n",
      "Типы признаков:\n",
      "\tтип: float64 \tчисло признаков: 16\n",
      "\tтип: int64 \tчисло признаков: 8\n",
      "\tтип: object \tчисло признаков: 6\n"
     ]
    }
   ],
   "source": [
    "df = pd.read_csv('apartament_data.csv')\n",
    "print(f'Число сэмлов = {df.shape[0]}')\n",
    "print(f'Число признаков = {df.shape[1]}')\n",
    "print(f'Типы признаков:')\n",
    "[print('\\tтип:', ttype, '\\tчисло признаков:', num) \n",
    "    for ttype, num in zip(df.dtypes.value_counts().index, df.dtypes.value_counts())]\n",
    "pass"
   ]
  },
  {
   "cell_type": "markdown",
   "id": "2d459b27",
   "metadata": {},
   "source": [
    "#### Для удобства переименуем название признаков:"
   ]
  },
  {
   "cell_type": "code",
   "execution_count": 3,
   "id": "233a430b",
   "metadata": {},
   "outputs": [],
   "source": [
    "new_names = ['price', 'year_built', 'year_sold', 'month_sold', 'size', 'floor', 'hallway_type', 'heating_type',\n",
    "              'apt_manage_type', 'n_ground_parking', 'n_basement_parking', 'time_to_bus', \n",
    "              'time_to_subway', 'n_apt', 'n_manager', 'n_elevators', 'subway_station', 'n_office', 'n_hospital',\n",
    "              'n_dpartmentstore', 'n_mall', 'n_etc', 'n_park', 'n_elementary_school', 'n_middle_school',\n",
    "              'n_high_school', 'n_university', 'n_facilities_in_apt','n_facilities', 'n_school']\n",
    "rename_dict = {old_name: new_name for old_name, new_name in zip(df.columns, new_names)}\n",
    "df = df.rename(columns=rename_dict)"
   ]
  },
  {
   "cell_type": "markdown",
   "id": "e2d39400",
   "metadata": {},
   "source": [
    "**Удалим неинформативные признаки**  \n",
    "неинформативные - признаки с высокой корреляцией или маленькой дисперсией  \n",
    "Подробнее описано в ДЗ2"
   ]
  },
  {
   "cell_type": "code",
   "execution_count": 4,
   "id": "b64430a7",
   "metadata": {},
   "outputs": [],
   "source": [
    "df = df.drop(['n_school'], axis=1)\n",
    "df = df.drop(['n_facilities'], axis=1)\n",
    "df = df.drop(['heating_type'], axis=1)\n",
    "df = df.drop(['apt_manage_type'], axis=1)"
   ]
  },
  {
   "cell_type": "markdown",
   "id": "b78fc817",
   "metadata": {},
   "source": [
    "**Бинаризуем категориальные признаки**"
   ]
  },
  {
   "cell_type": "code",
   "execution_count": 5,
   "id": "0f764d04",
   "metadata": {},
   "outputs": [],
   "source": [
    "object_cols = df.select_dtypes(\"object\").columns\n",
    "for col in object_cols:\n",
    "    df = pd.concat((df, pd.get_dummies(df[col])), axis=1)\n",
    "    df = df.drop([col], axis=1)"
   ]
  },
  {
   "cell_type": "markdown",
   "id": "fd037638",
   "metadata": {},
   "source": [
    "**Преобразуем цену квартиры в ее \"престижность\"**  \n",
    "Подробнее описано в ДЗ2"
   ]
  },
  {
   "cell_type": "code",
   "execution_count": 6,
   "id": "e6435b70",
   "metadata": {},
   "outputs": [
    {
     "name": "stdout",
     "output_type": "stream",
     "text": [
      "Доли квартир в общей выборке:\n"
     ]
    },
    {
     "data": {
      "text/plain": [
       "middle    2953\n",
       "low       1474\n",
       "hight     1464\n",
       "Name: prestige, dtype: int64"
      ]
     },
     "execution_count": 6,
     "metadata": {},
     "output_type": "execute_result"
    }
   ],
   "source": [
    "price = df.price\n",
    "first_q = price.quantile(0.25)\n",
    "third_q = price.quantile(0.75)\n",
    "prestige = np.asarray([\"middle\"] * len(df))\n",
    "prestige[list(df.price <= first_q)] = \"low\"\n",
    "prestige[list(df.price > third_q)] = \"hight\"\n",
    "df.insert(0, \"prestige\", pd.Series(prestige))\n",
    "df['prestige'] = df['prestige'].astype('category')\n",
    "df = df.drop(['price'], axis=1)\n",
    "print(\"Доли квартир в общей выборке:\")\n",
    "df['prestige'].value_counts() "
   ]
  },
  {
   "cell_type": "markdown",
   "id": "c571ae0d",
   "metadata": {},
   "source": [
    "**Разбиение данных на обучающую и тестовую выборки**  "
   ]
  },
  {
   "cell_type": "code",
   "execution_count": 7,
   "id": "f5d93497",
   "metadata": {},
   "outputs": [
    {
     "name": "stdout",
     "output_type": "stream",
     "text": [
      "N_train = 4712\n",
      "N_test = 1179\n"
     ]
    }
   ],
   "source": [
    "df_train, df_test = train_test_split(df,  test_size=0.2, random_state=42, stratify=df.prestige)\n",
    "print(f\"N_train = {len(df_train)}\\nN_test = {len(df_test)}\")"
   ]
  },
  {
   "cell_type": "markdown",
   "id": "259f66aa",
   "metadata": {},
   "source": [
    "**Отделение меток и признаков + стандартизация**"
   ]
  },
  {
   "cell_type": "code",
   "execution_count": 8,
   "id": "ac760d1b",
   "metadata": {},
   "outputs": [],
   "source": [
    "X_train = df_train.drop(['prestige'], axis=1)\n",
    "y_train = np.asarray([1] * len(df_train))\n",
    "y_train[df_train.prestige == \"low\"] = 0\n",
    "y_train[df_train.prestige == \"hight\"] = 2\n",
    "\n",
    "X_test = df_test.drop(['prestige'], axis=1)\n",
    "y_test = np.asarray([1] * len(df_test))\n",
    "y_test[df_test.prestige == \"low\"] = 0\n",
    "y_test[df_test.prestige == \"hight\"] = 2\n",
    "\n",
    "mean = X_train.mean(axis = 0)\n",
    "std = X_train.std(axis = 0)\n",
    "\n",
    "X_train = (X_train - mean) / std\n",
    "X_test =  (X_test  - mean) / std"
   ]
  },
  {
   "cell_type": "markdown",
   "id": "f25b963d",
   "metadata": {},
   "source": [
    "# 3. Обучение классификаторов \n",
    "Подбор нетривиальных гиперпараметров моделей будет осущетсвляться с помощью GridSearchCV"
   ]
  },
  {
   "cell_type": "code",
   "execution_count": 9,
   "id": "7f925142",
   "metadata": {},
   "outputs": [],
   "source": [
    "error = {}\n",
    "\n",
    "def scorer(estimator, X_test, y_test):\n",
    "    return balanced_accuracy_score(y_test, estimator.predict(X_test))"
   ]
  },
  {
   "cell_type": "markdown",
   "id": "a3a91c1c",
   "metadata": {},
   "source": [
    "## Random Forest"
   ]
  },
  {
   "cell_type": "code",
   "execution_count": 10,
   "id": "771b9209",
   "metadata": {},
   "outputs": [
    {
     "name": "stdout",
     "output_type": "stream",
     "text": [
      "GridCV error: 0.06166329229452472\n",
      "Best_estimator: RandomForestClassifier(max_depth=13, n_estimators=101)\n"
     ]
    }
   ],
   "source": [
    "from sklearn.ensemble import RandomForestClassifier\n",
    "\n",
    "n_estimators = np.arange(1, 205, 50)\n",
    "criterion = [\"gini\", \"entropy\"]\n",
    "max_depth = np.arange(1, 16, 2)\n",
    "forest = RandomForestClassifier()\n",
    "grid = GridSearchCV(forest, cv=3, scoring=scorer,\n",
    "                    param_grid = {'n_estimators': n_estimators, 'max_depth': max_depth, 'criterion': criterion})\n",
    "grid.fit(X_train, y_train)\n",
    "print(f\"GridCV error: {1 - grid.best_score_}\")\n",
    "print(f\"Best_estimator: {grid.best_estimator_}\")"
   ]
  },
  {
   "cell_type": "code",
   "execution_count": 20,
   "id": "6b4d8abf",
   "metadata": {},
   "outputs": [
    {
     "name": "stdout",
     "output_type": "stream",
     "text": [
      "Random Forest test_error: 0.04418177432575454\n"
     ]
    }
   ],
   "source": [
    "forest = RandomForestClassifier(criterion='entropy', max_depth=13, n_estimators=101).fit(X_train, y_train)\n",
    "train_error = 1 - balanced_accuracy_score(y_train, forest.predict(X_train)) \n",
    "test_error = 1 - balanced_accuracy_score(y_test, forest.predict(X_test))\n",
    "error[\"Random Forest\"] = {\"train\": train_error, \"test\": test_error}\n",
    "print(f\"Random Forest test_error: {test_error}\")"
   ]
  },
  {
   "cell_type": "code",
   "execution_count": 21,
   "id": "537440b5",
   "metadata": {},
   "outputs": [
    {
     "data": {
      "image/png": "[encoded data removed]",
      "text/plain": [
       "<Figure size 432x288 with 1 Axes>"
      ]
     },
     "metadata": {
      "needs_background": "light"
     },
     "output_type": "display_data"
    }
   ],
   "source": [
    "np.sum(forest.feature_importances_)\n",
    "importances = forest.feature_importances_\n",
    "indices = np.argsort(importances)[::-1]\n",
    "    \n",
    "d_first = 40\n",
    "features_names = X_train.columns\n",
    "plt.title(\"Feature importances\")\n",
    "plt.bar(range(d_first), importances[indices[:d_first]], align = 'center', color = 'r')\n",
    "plt.xticks(range(d_first), features_names[indices[:d_first]], rotation = 90)\n",
    "plt.xlim([-1, d_first])\n",
    "pass"
   ]
  },
  {
   "cell_type": "markdown",
   "id": "82f06904",
   "metadata": {},
   "source": [
    "Оставим топ 10 ризнаков с высокой значимостью "
   ]
  },
  {
   "cell_type": "code",
   "execution_count": 22,
   "id": "6f62eea7",
   "metadata": {},
   "outputs": [
    {
     "data": {
      "text/plain": [
       "(4712, 10)"
      ]
     },
     "execution_count": 22,
     "metadata": {},
     "output_type": "execute_result"
    }
   ],
   "source": [
    "X_train_clean = X_train[features_names[indices[:10]]]\n",
    "X_test_clean = X_test[features_names[indices[:10]]]\n",
    "X_train_clean.shape"
   ]
  },
  {
   "cell_type": "code",
   "execution_count": 23,
   "id": "e4047475",
   "metadata": {},
   "outputs": [
    {
     "name": "stdout",
     "output_type": "stream",
     "text": [
      "Random Forest test_error: 0.03453002104316916\n"
     ]
    }
   ],
   "source": [
    "forest = RandomForestClassifier(criterion='entropy', max_depth=13, n_estimators=101).fit(X_train_clean, y_train)\n",
    "train_error = 1 - balanced_accuracy_score(y_train, forest.predict(X_train_clean)) \n",
    "test_error = 1 - balanced_accuracy_score(y_test, forest.predict(X_test_clean))\n",
    "error[\"Random Forest\"] = {\"train\": train_error, \"test\": test_error}\n",
    "print(f\"Random Forest test_error: {test_error}\")"
   ]
  },
  {
   "cell_type": "markdown",
   "id": "4ee79b20",
   "metadata": {},
   "source": [
    "## KNN"
   ]
  },
  {
   "cell_type": "code",
   "execution_count": 24,
   "id": "c061cab6",
   "metadata": {},
   "outputs": [
    {
     "name": "stdout",
     "output_type": "stream",
     "text": [
      "GridCV error: 0.08521023543857176\n",
      "Best_estimator: KNeighborsClassifier(n_jobs=8, n_neighbors=10, p=1, weights='distance')\n"
     ]
    }
   ],
   "source": [
    "from sklearn.neighbors import KNeighborsClassifier\n",
    "\n",
    "n_neighbors = np.arange(1, 15)\n",
    "svc = KNeighborsClassifier(weights='distance', p=1, n_jobs=8)\n",
    "grid = GridSearchCV(svc, cv=3, scoring=scorer,\n",
    "                    param_grid = {'n_neighbors': n_neighbors})\n",
    "grid.fit(X_train_clean, y_train)\n",
    "print(f\"GridCV error: {1 - grid.best_score_}\")\n",
    "print(f\"Best_estimator: {grid.best_estimator_}\")"
   ]
  },
  {
   "cell_type": "code",
   "execution_count": 25,
   "id": "60f37bcc",
   "metadata": {},
   "outputs": [
    {
     "name": "stdout",
     "output_type": "stream",
     "text": [
      "KNN test_error: 0.058332140015949885\n"
     ]
    }
   ],
   "source": [
    "knn = KNeighborsClassifier(n_jobs=8, n_neighbors=10, p=1, weights='distance').fit(X_train_clean, y_train)\n",
    "train_error = 1 - balanced_accuracy_score(y_train, knn.predict(X_train_clean)) \n",
    "test_error = 1 - balanced_accuracy_score(y_test, knn.predict(X_test_clean))\n",
    "error[\"KNN\"] = {\"train\": train_error, \"test\": test_error}\n",
    "print(f\"KNN test_error: {test_error}\")"
   ]
  },
  {
   "cell_type": "markdown",
   "id": "f9a9a90d",
   "metadata": {},
   "source": [
    "## SVC"
   ]
  },
  {
   "cell_type": "code",
   "execution_count": 26,
   "id": "795d7fd6",
   "metadata": {},
   "outputs": [
    {
     "name": "stdout",
     "output_type": "stream",
     "text": [
      "GridCV error: 0.05463489135067778\n",
      "Best_estimator: SVC(C=10.0, class_weight='balanced', gamma=0.1)\n"
     ]
    }
   ],
   "source": [
    "from sklearn.svm import SVC\n",
    "\n",
    "C = 10.**np.arange(-5, 5)\n",
    "gamma_array = 10.**np.arange(-5, 5)\n",
    "svc = SVC(gamma='auto', class_weight='balanced')\n",
    "grid = GridSearchCV(svc, cv=3, scoring=scorer,\n",
    "                    param_grid = {'C': C, 'gamma': gamma_array})\n",
    "grid.fit(X_train_clean, y_train)\n",
    "print(f\"GridCV error: {1 - grid.best_score_}\")\n",
    "print(f\"Best_estimator: {grid.best_estimator_}\")"
   ]
  },
  {
   "cell_type": "code",
   "execution_count": 27,
   "id": "bfb3e3f9",
   "metadata": {},
   "outputs": [
    {
     "name": "stdout",
     "output_type": "stream",
     "text": [
      "SVC test_error: 0.036191281973931844\n"
     ]
    }
   ],
   "source": [
    "svc = SVC(C=10.0, class_weight='balanced', gamma=0.1).fit(X_train_clean, y_train)\n",
    "train_error = 1 - balanced_accuracy_score(y_train, svc.predict(X_train_clean)) \n",
    "test_error = 1 - balanced_accuracy_score(y_test, svc.predict(X_test_clean))\n",
    "error[\"SVC\"] = {\"train\": train_error, \"test\": test_error}\n",
    "print(f\"SVC test_error: {test_error}\")"
   ]
  },
  {
   "cell_type": "markdown",
   "id": "49031565",
   "metadata": {},
   "source": [
    "## Decision tree"
   ]
  },
  {
   "cell_type": "code",
   "execution_count": 28,
   "id": "ed270781",
   "metadata": {},
   "outputs": [
    {
     "name": "stdout",
     "output_type": "stream",
     "text": [
      "GridCV error: 0.0701267081939766\n",
      "Best_estimator: DecisionTreeClassifier(criterion='entropy', max_depth=11)\n"
     ]
    }
   ],
   "source": [
    "from sklearn.tree import DecisionTreeClassifier\n",
    "\n",
    "criterion = [\"gini\", \"entropy\"]\n",
    "max_depth = np.arange(1, 16, 2)\n",
    "dtree = DecisionTreeClassifier()\n",
    "grid = GridSearchCV(dtree, cv=3, scoring=scorer,\n",
    "                    param_grid = {'max_depth': max_depth, 'criterion': criterion})\n",
    "grid.fit(X_train_clean, y_train)\n",
    "print(f\"GridCV error: {1 - grid.best_score_}\")\n",
    "print(f\"Best_estimator: {grid.best_estimator_}\")"
   ]
  },
  {
   "cell_type": "code",
   "execution_count": 30,
   "id": "d52236c2",
   "metadata": {},
   "outputs": [
    {
     "name": "stdout",
     "output_type": "stream",
     "text": [
      "Decision tree test_error: 0.046990316527150355\n",
      "Имена топовых признаков: floor, year_built, year_sold\n"
     ]
    },
    {
     "data": {
      "image/png": "[encoded data removed]",
      "text/plain": [
       "<Figure size 1600x480 with 1 Axes>"
      ]
     },
     "metadata": {
      "needs_background": "light"
     },
     "output_type": "display_data"
    }
   ],
   "source": [
    "dtree = DecisionTreeClassifier(criterion='entropy', max_depth=11).fit(X_train_clean, y_train)\n",
    "train_error = 1 - balanced_accuracy_score(y_train, dtree.predict(X_train_clean)) \n",
    "test_error = 1 - balanced_accuracy_score(y_test, dtree.predict(X_test_clean))\n",
    "error[\"Decision tree\"] = {\"train\": train_error, \"test\": test_error}\n",
    "print(f\"Decision tree test_error: {test_error}\")\n",
    "\n",
    "from matplotlib.pyplot import figure\n",
    "from sklearn import tree\n",
    "figure(figsize=(20, 6), dpi=80)\n",
    "_= tree.plot_tree(dtree, max_depth=2)\n",
    "print(f\"Имена топовых признаков: {features_names[4]}, {features_names[0]}, {features_names[1]}\")"
   ]
  },
  {
   "cell_type": "markdown",
   "id": "e34f3395",
   "metadata": {},
   "source": [
    "## MLP "
   ]
  },
  {
   "cell_type": "markdown",
   "id": "befa1a49",
   "metadata": {},
   "source": [
    "Поскольку оптимальное число слоев подобрано в  ДЗ 6,   \n",
    "то здесь поэкспеременитируем с числом нейронов на очищенных данных"
   ]
  },
  {
   "cell_type": "code",
   "execution_count": 36,
   "id": "80e34dc8",
   "metadata": {
    "scrolled": true
   },
   "outputs": [
    {
     "name": "stdout",
     "output_type": "stream",
     "text": [
      "GridCV error: 0.05782860349183172\n",
      "Best_estimator: MLPClassifier(hidden_layer_sizes=30, max_iter=1000)\n"
     ]
    }
   ],
   "source": [
    "from sklearn.neural_network import MLPClassifier\n",
    "\n",
    "hidden_layer_sizes = [1, 30, 2]\n",
    "mlp = MLPClassifier(max_iter=1000, solver=\"adam\", activation='relu')\n",
    "grid = GridSearchCV(mlp, cv=3, scoring=scorer,\n",
    "            param_grid = {'hidden_layer_sizes': hidden_layer_sizes})\n",
    "grid.fit(X_train_clean, y_train)\n",
    "print(f\"GridCV error: {1 - grid.best_score_}\")\n",
    "print(f\"Best_estimator: {grid.best_estimator_}\")"
   ]
  },
  {
   "cell_type": "code",
   "execution_count": 37,
   "id": "93c1505b",
   "metadata": {},
   "outputs": [
    {
     "name": "stdout",
     "output_type": "stream",
     "text": [
      "MLPClassifier test_error: 0.03908255867214494\n"
     ]
    }
   ],
   "source": [
    "mlp = MLPClassifier(hidden_layer_sizes=(30,), max_iter=1000).fit(X_train_clean, y_train)\n",
    "train_error = 1 - balanced_accuracy_score(y_train, mlp.predict(X_train_clean)) \n",
    "test_error = 1 - balanced_accuracy_score(y_test, mlp.predict(X_test_clean))\n",
    "error[\"MLP\"] = {\"train\": train_error, \"test\": test_error}\n",
    "print(f\"MLPClassifier test_error: {test_error}\")"
   ]
  },
  {
   "cell_type": "markdown",
   "id": "83b4d24f",
   "metadata": {},
   "source": [
    "## GBT"
   ]
  },
  {
   "cell_type": "code",
   "execution_count": 38,
   "id": "c587fe1a",
   "metadata": {},
   "outputs": [
    {
     "name": "stdout",
     "output_type": "stream",
     "text": [
      "GridCV error: 0.05597997288963563\n",
      "Best_estimator: GradientBoostingClassifier(n_estimators=150)\n"
     ]
    }
   ],
   "source": [
    "from sklearn.ensemble import GradientBoostingClassifier\n",
    "\n",
    "n_estimators = np.arange(10, 200, 20)\n",
    "gbt = GradientBoostingClassifier()\n",
    "grid = GridSearchCV(gbt, cv=3, scoring=scorer,\n",
    "            param_grid = {'n_estimators': n_estimators})\n",
    "grid.fit(X_train_clean, y_train)\n",
    "print(f\"GridCV error: {1 - grid.best_score_}\")\n",
    "print(f\"Best_estimator: {grid.best_estimator_}\")"
   ]
  },
  {
   "cell_type": "code",
   "execution_count": 39,
   "id": "811e7e9b",
   "metadata": {},
   "outputs": [
    {
     "name": "stdout",
     "output_type": "stream",
     "text": [
      "GBT test_error: 0.03340970238321883\n"
     ]
    }
   ],
   "source": [
    "gbt = GradientBoostingClassifier(n_estimators=150).fit(X_train_clean, y_train)\n",
    "train_error = 1 - balanced_accuracy_score(y_train, gbt.predict(X_train_clean)) \n",
    "test_error = 1 - balanced_accuracy_score(y_test, gbt.predict(X_test_clean))\n",
    "error[\"GBT\"] = {\"train\": train_error, \"test\": test_error}\n",
    "print(f\"GBT test_error: {test_error}\")"
   ]
  },
  {
   "cell_type": "markdown",
   "id": "06fb34d1",
   "metadata": {},
   "source": [
    "# 4. Обучение на полных данных"
   ]
  },
  {
   "cell_type": "code",
   "execution_count": 40,
   "id": "a78aa273",
   "metadata": {},
   "outputs": [],
   "source": [
    "forest = RandomForestClassifier(criterion='entropy', max_depth=13, n_estimators=101).fit(X_train, y_train)\n",
    "train_error = 1 - balanced_accuracy_score(y_train, forest.predict(X_train)) \n",
    "test_error = 1 - balanced_accuracy_score(y_test, forest.predict(X_test))\n",
    "error[\"Random Forest\"][\"full_data\"] = {\"train\": train_error, \"test\": test_error}\n",
    "\n",
    "knn = KNeighborsClassifier(n_jobs=8, n_neighbors=10, p=1, weights='distance').fit(X_train, y_train)\n",
    "train_error = 1 - balanced_accuracy_score(y_train, knn.predict(X_train)) \n",
    "test_error = 1 - balanced_accuracy_score(y_test, knn.predict(X_test))\n",
    "error[\"KNN\"][\"full_data\"] = {\"train\": train_error, \"test\": test_error}\n",
    "\n",
    "svc = SVC(C=10.0, class_weight='balanced', gamma=0.1).fit(X_train, y_train)\n",
    "train_error = 1 - balanced_accuracy_score(y_train, svc.predict(X_train)) \n",
    "test_error = 1 - balanced_accuracy_score(y_test, svc.predict(X_test))\n",
    "error[\"SVC\"][\"full_data\"] = {\"train\": train_error, \"test\": test_error}\n",
    "\n",
    "dtree = DecisionTreeClassifier(criterion='entropy', max_depth=11).fit(X_train, y_train)\n",
    "train_error = 1 - balanced_accuracy_score(y_train, dtree.predict(X_train)) \n",
    "test_error = 1 - balanced_accuracy_score(y_test, dtree.predict(X_test))\n",
    "error[\"Decision tree\"][\"full_data\"]= {\"train\": train_error, \"test\": test_error}\n",
    "\n",
    "mlp = MLPClassifier(hidden_layer_sizes=(30,), max_iter=1000).fit(X_train, y_train)\n",
    "train_error = 1 - balanced_accuracy_score(y_train, mlp.predict(X_train)) \n",
    "test_error = 1 - balanced_accuracy_score(y_test, mlp.predict(X_test))\n",
    "error[\"MLP\"][\"full_data\"] = {\"train\": train_error, \"test\": test_error}\n",
    "\n",
    "gbt = GradientBoostingClassifier(n_estimators=150).fit(X_train, y_train)\n",
    "train_error = 1 - balanced_accuracy_score(y_train, gbt.predict(X_train)) \n",
    "test_error = 1 - balanced_accuracy_score(y_test, gbt.predict(X_test))\n",
    "error[\"GBT\"][\"full_data\"] = {\"train\": train_error, \"test\": test_error}"
   ]
  },
  {
   "cell_type": "markdown",
   "id": "f9c51e41",
   "metadata": {},
   "source": [
    "# 5. Сравнение классификаторов и выводы"
   ]
  },
  {
   "cell_type": "code",
   "execution_count": 42,
   "id": "072bea62",
   "metadata": {},
   "outputs": [],
   "source": [
    "# error['Random\\nForest'] = error.pop('Random Forest')\n",
    "# error['Decision\\ntree'] = error.pop('Decision tree')\n",
    "error = dict(sorted(error.items(), key=lambda item: item[1]['test']))"
   ]
  },
  {
   "cell_type": "code",
   "execution_count": 45,
   "id": "7db21a68",
   "metadata": {},
   "outputs": [
    {
     "data": {
      "image/png": "[encoded data removed]",
      "text/plain": [
       "<Figure size 432x288 with 1 Axes>"
      ]
     },
     "metadata": {
      "needs_background": "light"
     },
     "output_type": "display_data"
    }
   ],
   "source": [
    "plt.title(\"Test error\")\n",
    "plt.bar(np.arange(len(error))+0.1, [v['test'] for v in error.values()], align = 'center', color = 'r', width=0.25, label=\"Сlean_features\")\n",
    "plt.bar(np.arange(len(error))-0.1, [v[\"full_data\"]['test'] for v in error.values()], align = 'center', color = 'b', width=0.25, label=\"Full_features\")\n",
    "plt.xticks(range(len(error)), error.keys())\n",
    "plt.xlim([-1, len(error)])\n",
    "plt.legend()\n",
    "pass"
   ]
  },
  {
   "cell_type": "markdown",
   "id": "c5bd56e5",
   "metadata": {},
   "source": [
    "Выводы: \n",
    "* Как показал анализ информативности признаков (на основе уменьшения энтропии) Random Forest наиболее полезными для классификации являются признаки - площадь дома, год и  месяц продажи, этаж и год постройки. Также интересно, что в топ 5 самых полезных признаков попал terraced - категориальный признак, отвечающий за тип \"подъезда\".  \n",
    "* Если посмотреть на анализ признаков только одного дерева решений, то лучшими оказываются признаки floor, year_built, year_sold. Что поддается здравой логике.\n",
    "* График Test Error показывает, что удаление лишних признаков уменьшило ошибку на тестовой выборке для всех моделей.\n",
    "* В целом все алгоритмы показали хорошую точность -> Выполнять классификацию на этих данных - простая задача априори \n",
    "* Наиболее эффективными оказались GBT и Random Forest алгоритмы классификации, дающие 3% ошибку. Поскольку они оба внутри основаны на решающих правилах(<), значит исходную задачу следует решать пользуясь принципом уменьшения энтропии."
   ]
  },
  {
   "cell_type": "code",
   "execution_count": null,
   "id": "c2d2d581",
   "metadata": {},
   "outputs": [],
   "source": []
  }
 ],
 "metadata": {
  "kernelspec": {
   "display_name": "Python 3 (ipykernel)",
   "language": "python",
   "name": "python3"
  },
  "language_info": {
   "codemirror_mode": {
    "name": "ipython",
    "version": 3
   },
   "file_extension": ".py",
   "mimetype": "text/x-python",
   "name": "python",
   "nbconvert_exporter": "python",
   "pygments_lexer": "ipython3",
   "version": "3.8.10"
  }
 },
 "nbformat": 4,
 "nbformat_minor": 5
}
